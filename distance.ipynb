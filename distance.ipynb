{
 "cells": [
  {
   "cell_type": "markdown",
   "metadata": {},
   "source": [
    "# 几种距离计算方法"
   ]
  },
  {
   "cell_type": "code",
   "execution_count": 1,
   "metadata": {},
   "outputs": [
    {
     "name": "stdout",
     "output_type": "stream",
     "text": [
      "[[0.419661   0.62745599 0.06814862 0.49161578 0.75087022 0.61411327\n",
      "  0.60400622 0.90886719 0.64385818 0.53638736]\n",
      " [0.06729813 0.51420992 0.08275899 0.69021811 0.34594005 0.92608393\n",
      "  0.36715408 0.40392928 0.22735359 0.66668405]]\n",
      "Euclid: 0.969,0.969\n"
     ]
    }
   ],
   "source": [
    "import numpy as np\n",
    "x=np.random.rand(10)\n",
    "y=np.random.rand(10)\n",
    "\n",
    "from scipy.spatial.distance import pdist\n",
    "X=np.vstack([x,y])\n",
    "print(X)\n",
    "\n",
    "\n",
    "#欧几里得距离\n",
    "#方法一：根据公式求解\n",
    "d1=np.sqrt(np.sum(np.square(x-y)))\n",
    "\n",
    "#方法二：根据scipy库求解\n",
    "d2=pdist(X)\n",
    "print('Euclid: %.3f,%0.3f'%(d1,d2))"
   ]
  },
  {
   "cell_type": "code",
   "execution_count": 2,
   "metadata": {},
   "outputs": [
    {
     "name": "stdout",
     "output_type": "stream",
     "text": [
      "Manhatton: 2.684,2.684\n"
     ]
    }
   ],
   "source": [
    "#曼哈顿距离\n",
    "#方法一：根据公式求解\n",
    "d1=np.sum(np.abs(x-y))\n",
    "\n",
    "#方法二：根据scipy库求解\n",
    "d2=pdist(X,'cityblock')\n",
    "print('Manhatton: %.3f,%0.3f'%(d1,d2))"
   ]
  },
  {
   "cell_type": "code",
   "execution_count": 4,
   "metadata": {},
   "outputs": [
    {
     "name": "stdout",
     "output_type": "stream",
     "text": [
      "chebyshev: 0.505,0.505\n"
     ]
    }
   ],
   "source": [
    "#切比雪夫距离\n",
    "#方法一：根据公式求解\n",
    "d1=np.max(np.abs(x-y))\n",
    "\n",
    "#方法二：根据scipy库求解\n",
    "d2=pdist(X,'chebyshev')\n",
    "print('chebyshev: %.3f,%0.3f'%(d1,d2))"
   ]
  },
  {
   "cell_type": "code",
   "execution_count": 5,
   "metadata": {},
   "outputs": [
    {
     "name": "stdout",
     "output_type": "stream",
     "text": [
      "minkowski: 0.969,0.969\n"
     ]
    }
   ],
   "source": [
    "#闵氏距离\n",
    "#方法一：根据公式求解,p=2,就是欧几里得距离\n",
    "d1=np.sqrt(np.sum(np.square(x-y)))\n",
    "\n",
    "#方法二：根据scipy库求解\n",
    "d2=pdist(X,'minkowski',p=2)\n",
    "print('minkowski: %.3f,%0.3f'%(d1,d2))"
   ]
  },
  {
   "cell_type": "code",
   "execution_count": 6,
   "metadata": {},
   "outputs": [
    {
     "name": "stdout",
     "output_type": "stream",
     "text": [
      "[1.67528325 1.70919092 2.31158371 1.58957184 3.12600364 1.19556964\n",
      " 2.26656633 1.04392485 2.18925214 2.63714549 1.09014882 1.01728278\n",
      " 1.61358109 0.54024563 1.54857502 1.13701714 0.84423441 2.53043719\n",
      " 3.08566185 3.41898583 2.43121342 3.80011824 2.62826562 2.58882339\n",
      " 2.10734757 0.90130888 1.51819935 2.59620518 2.14867054 0.26027434\n",
      " 2.53964564 0.73709323 0.71452843 0.56052141 1.86035353 2.14269925\n",
      " 2.82961434 2.75033956 0.94304799 1.42210344 0.63106678 1.30327355\n",
      " 1.22306233 2.33679864 1.93374966]\n"
     ]
    }
   ],
   "source": [
    "#马氏距离要求样本数要大于维数，否则无法求协方差矩阵\n",
    "#此处进行转置，表示10个样本，每个样本2维\n",
    "XT=X.T\n",
    "d2=pdist(XT,'mahalanobis')\n",
    "print(d2)"
   ]
  },
  {
   "cell_type": "code",
   "execution_count": 7,
   "metadata": {},
   "outputs": [
    {
     "name": "stdout",
     "output_type": "stream",
     "text": [
      "result is 0.979381443298969\n",
      "result is 0.9865789746550581\n",
      "2.8284271247461903\n",
      "8.660254037844387\n"
     ]
    }
   ],
   "source": [
    "def cosVector(x,y):\n",
    "    if(len(x)!=len(y)):\n",
    "        print('error input,x and y is not in the same space')\n",
    "        return;\n",
    "    result1=0.0;\n",
    "    result2=0.0;\n",
    "    result3=0.0;\n",
    "    for i in range(len(x)):\n",
    "        result1+=x[i]*y[i]   #sum(X*Y)\n",
    "        result2+=x[i]**2     #sum(X*X)\n",
    "        result3+=y[i]**2     #sum(Y*Y)\n",
    "    #print(result1)\n",
    "    #print(result2)\n",
    "    #print(result3)\n",
    "    print(\"result is \"+str(result1/((result2*result3)**0.5))) #结果显示\n",
    "    \n",
    "a1 = [9,8,7]\n",
    "a2 = [7,8,9]\n",
    "a3 = [4,3,2]\n",
    "cosVector(a1,a2)  #协方差距离\n",
    "cosVector(a1,a3)\n",
    "print(np.sqrt(np.sum(np.square(np.array(a1)-np.array(a2)))))\n",
    "print(np.sqrt(np.sum(np.square(np.array(a1)-np.array(a3)))))"
   ]
  },
  {
   "cell_type": "code",
   "execution_count": null,
   "metadata": {},
   "outputs": [],
   "source": []
  }
 ],
 "metadata": {
  "kernelspec": {
   "display_name": "Python 3",
   "language": "python",
   "name": "python3"
  },
  "language_info": {
   "codemirror_mode": {
    "name": "ipython",
    "version": 3
   },
   "file_extension": ".py",
   "mimetype": "text/x-python",
   "name": "python",
   "nbconvert_exporter": "python",
   "pygments_lexer": "ipython3",
   "version": "3.7.9"
  }
 },
 "nbformat": 4,
 "nbformat_minor": 2
}
