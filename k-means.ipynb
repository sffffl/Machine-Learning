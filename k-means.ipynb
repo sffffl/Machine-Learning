{
 "cells": [
  {
   "cell_type": "markdown",
   "metadata": {},
   "source": [
    "# K-means"
   ]
  },
  {
   "cell_type": "markdown",
   "metadata": {},
   "source": [
    "具体想法：\n",
    "    预设这堆数据是k类，我们随机从数据集中抽出k个数据作为这k类的质心。在此基础上计算其余样本到这k个质心的距离，挑选距离最短的质心所属的类作为该样本的类，在第一次判断了所有的距离之后，如果这个过程中有样本改变了类，就说明聚类没有结束，于是我们需要得到新的质心，取所有属于该类的均值（也有取其他统计量的）。得到新的质心之后，重复上述的更新类别的步骤。如果在某一个更新类别之后，并没有样本的类别进行了更新，说明我们的聚类已经完成，不再继续更新了，推出算法，得到最终的分类结果。\n"
   ]
  },
  {
   "cell_type": "markdown",
   "metadata": {},
   "source": [
    "## k-means的具体代码"
   ]
  },
  {
   "cell_type": "code",
   "execution_count": 1,
   "metadata": {},
   "outputs": [],
   "source": [
    "from numpy import *  \n",
    "import time  \n",
    "import matplotlib.pyplot as plt  \n",
    "  \n",
    "#定义函数用于计算欧几里得距离  \n",
    "def euclDistance(vector1, vector2):  \n",
    "    return sqrt(sum(power(vector2 - vector1, 2)))  \n",
    "  \n",
    "# init centroids with random samples  \n",
    "def initCentroids(dataSet, k):    #获得初始质心\n",
    "    numSamples,dim = dataSet.shape  \n",
    "    centroids = zeros((k, dim))  \n",
    "    for i in range(k):  \n",
    "        index = int(random.uniform(0, numSamples))     #从最初的样本中随机选择k个样本作为初始质心\n",
    "        #从[0,样本量]中均匀抽样，获得第i个指标\n",
    "        #将原始数据中的第i个指标对应的数据赋给初始质心\n",
    "        centroids[i, :] = dataSet[index, :]  \n",
    "    return centroids  \n",
    "  \n",
    "# k-means cluster 主要算法 \n",
    "def kmeans(dataSet, k):  \n",
    "    numSamples = dataSet.shape[0]  \n",
    "    # first column stores which cluster this sample belongs to,  \n",
    "    # second column stores the error between this sample and its centroid  \n",
    "    clusterAssment = mat(zeros((numSamples, 2)))    #将数据变换成Numpy矩阵\n",
    "    clusterChanged = True  \n",
    "  \n",
    "    ## step 1: init centroids  \n",
    "    centroids = initCentroids(dataSet, k)  \n",
    "  \n",
    "    while clusterChanged:  \n",
    "        clusterChanged = False  \n",
    "        ## for each sample  \n",
    "        for i in range(numSamples):  \n",
    "            minDist  = 100000.0    #初始最短距离\n",
    "            minIndex = 0  \n",
    "            ## for each centroid  \n",
    "            ## step 2: find the centroid who is closest  \n",
    "            for j in range(k):  \n",
    "                distance = euclDistance(centroids[j, :], dataSet[i, :])   #计算每个样本与初始质心的距离\n",
    "                if distance < minDist:   #如果距离小于阈值\n",
    "                    minDist  = distance    #更新最短距离\n",
    "                    minIndex = j  \n",
    "                    #上面循环就是找出每个样本距离初始质心的最短距离\n",
    "            ## step 3: update its cluster  \n",
    "            if clusterAssment[i, 0] != minIndex:    #如果一开始没有分对，就进行更新\n",
    "                clusterChanged = True  \n",
    "                clusterAssment[i, :] = minIndex, minDist**2  #记录下所属的类别和对应距离\n",
    "            \n",
    "        #以上就更新了或者没有更新每个样本所属类别\n",
    "        #接下来更新类别质心\n",
    "  \n",
    "        ## step 4: update centroids  \n",
    "        for j in range(k):  \n",
    "            pointsInCluster = dataSet[nonzero(clusterAssment[:, 0].A == j)[0]]  #把属于同一类的放在一起\n",
    "            #.A是把矩阵转换为数组numpy\n",
    "            #nonzero()返回哪些元素不是False或者0\n",
    "            centroids[j, :] = mean(pointsInCluster, axis = 0)   #取均值作为他们的质心\n",
    "  \n",
    "    print ('cluster complete!')  \n",
    "    return centroids, clusterAssment  \n",
    "  \n",
    "# show your cluster only available with 2-D data  \n",
    "def showCluster(dataSet, k, centroids, clusterAssment):  \n",
    "    numSamples, dim = dataSet.shape  \n",
    "    if dim != 2:  #如果数据不是2维的，无法展示\n",
    "        print( \"Sorry! can not draw because the dimension of your data is not 2!\" ) \n",
    "        return 1  \n",
    "  \n",
    "    mark = ['or', 'ob', 'og', 'ok', '^r', '+r', 'sr', 'dr', '<r', 'pr']   #这里默认最多10类\n",
    "    if k > len(mark):  \n",
    "        print(\"Sorry! Your k is too large!\")  \n",
    "        return 1  \n",
    "  \n",
    "    # draw all samples  \n",
    "    for i in range(numSamples):  \n",
    "        markIndex = int(clusterAssment[i, 0])  \n",
    "        plt.plot(dataSet[i, 0], dataSet[i, 1], mark[markIndex])  #同一个类别的用同一个颜色\n",
    "  \n",
    "    mark = ['Dr', 'Db', 'Dg', 'Dk', '^b', '+b', 'sb', 'db', '<b', 'pb']  \n",
    "    # draw the centroids  \n",
    "    for i in range(k):  \n",
    "        plt.plot(centroids[i, 0], centroids[i, 1], mark[i], markeredgecolor='c',markersize = 12)  \n",
    "  \n",
    "    plt.show()  "
   ]
  },
  {
   "cell_type": "code",
   "execution_count": 2,
   "metadata": {},
   "outputs": [
    {
     "name": "stdout",
     "output_type": "stream",
     "text": [
      "step 1: load data...\n"
     ]
    }
   ],
   "source": [
    "from numpy import *  \n",
    "import time  \n",
    "import matplotlib.pyplot as plt  \n",
    "  \n",
    "## step 1: load data  \n",
    "print (\"step 1: load data...\" ) \n",
    "dataSet = []  \n",
    "fileIn = open('cluster.txt')  \n",
    "for line in fileIn.readlines():  \n",
    "    lineArr = line.strip().split('\\t')  \n",
    "    dataSet.append([float(lineArr[0]), float(lineArr[1])])  "
   ]
  },
  {
   "cell_type": "code",
   "execution_count": 6,
   "metadata": {},
   "outputs": [
    {
     "name": "stdout",
     "output_type": "stream",
     "text": [
      "step 2: clustering...\n",
      "80 2\n",
      "cluster complete!\n",
      "step 3: show the result...\n"
     ]
    },
    {
     "data": {
      "image/png": "[encoded data removed]",
      "text/plain": [
       "<Figure size 432x288 with 1 Axes>"
      ]
     },
     "metadata": {
      "needs_background": "light"
     },
     "output_type": "display_data"
    }
   ],
   "source": [
    "# step 2: clustering...  \n",
    "print (\"step 2: clustering...\")  \n",
    "dataSet = mat(dataSet)  \n",
    "print(dataSet.shape[0],dataSet.shape[1])\n",
    "k = 4\n",
    "centroids, clusterAssment = kmeans(dataSet, k)  \n",
    "  \n",
    "## step 3: show the result  \n",
    "print( \"step 3: show the result...\" ) \n",
    "showCluster(dataSet, k, centroids, clusterAssment)  "
   ]
  },
  {
   "cell_type": "code",
   "execution_count": 8,
   "metadata": {},
   "outputs": [
    {
     "name": "stdout",
     "output_type": "stream",
     "text": [
      "[[1 1]\n",
      " [2 3]\n",
      " [4 2]]\n",
      "<class 'list'>\n",
      "(1, 3, 4, 5) <class 'tuple'>\n",
      "[[1 3 4 5]] <class 'numpy.matrix'>\n",
      "[2 3]\n"
     ]
    }
   ],
   "source": [
    "a1=mat([[1,1],[2,3],[4,2]])\n",
    "print(a1)\n",
    "a2=[[1,1],[2,3],[4,2]]\n",
    "print(type(a2))\n",
    "\n",
    "s=(1,3,4,5)\n",
    "print(s,type(s))\n",
    "\n",
    "a3=mat(s)  #矩阵化\n",
    "print(a3,type(a3))\n",
    "\n",
    "print(a1.A[1])"
   ]
  },
  {
   "cell_type": "code",
   "execution_count": null,
   "metadata": {},
   "outputs": [],
   "source": []
  }
 ],
 "metadata": {
  "kernelspec": {
   "display_name": "Python 3",
   "language": "python",
   "name": "python3"
  },
  "language_info": {
   "codemirror_mode": {
    "name": "ipython",
    "version": 3
   },
   "file_extension": ".py",
   "mimetype": "text/x-python",
   "name": "python",
   "nbconvert_exporter": "python",
   "pygments_lexer": "ipython3",
   "version": "3.7.9"
  }
 },
 "nbformat": 4,
 "nbformat_minor": 2
}
