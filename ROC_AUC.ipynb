{
 "cells": [
  {
   "cell_type": "markdown",
   "metadata": {},
   "source": [
    "# 在现成库下计算AUC和ROC"
   ]
  },
  {
   "cell_type": "code",
   "execution_count": 1,
   "metadata": {},
   "outputs": [],
   "source": [
    "import numpy as np  \n",
    "from scipy import interp  \n",
    "import matplotlib.pyplot as plt  \n",
    "  \n",
    "from sklearn import svm, datasets  \n",
    "from sklearn.metrics import roc_curve, auc  \n",
    "#from sklearn.cross_validation import StratifiedKFold  \n",
    "from sklearn.model_selection import StratifiedKFold    #分层k折交叉验证"
   ]
  },
  {
   "cell_type": "code",
   "execution_count": 2,
   "metadata": {},
   "outputs": [],
   "source": [
    "###############################################################################  \n",
    "# Data IO and generation,导入iris数据，做数据准备  \n",
    "  \n",
    "# import some data to play with  \n",
    "iris = datasets.load_iris()  \n",
    "X = iris.data  \n",
    "y = iris.target  "
   ]
  },
  {
   "cell_type": "code",
   "execution_count": 3,
   "metadata": {},
   "outputs": [
    {
     "name": "stdout",
     "output_type": "stream",
     "text": [
      "[[5.1 3.5 1.4 0.2]\n",
      " [4.9 3.  1.4 0.2]\n",
      " [4.7 3.2 1.3 0.2]\n",
      " [4.6 3.1 1.5 0.2]\n",
      " [5.  3.6 1.4 0.2]\n",
      " [5.4 3.9 1.7 0.4]\n",
      " [4.6 3.4 1.4 0.3]\n",
      " [5.  3.4 1.5 0.2]\n",
      " [4.4 2.9 1.4 0.2]\n",
      " [4.9 3.1 1.5 0.1]\n",
      " [5.4 3.7 1.5 0.2]\n",
      " [4.8 3.4 1.6 0.2]\n",
      " [4.8 3.  1.4 0.1]\n",
      " [4.3 3.  1.1 0.1]\n",
      " [5.8 4.  1.2 0.2]\n",
      " [5.7 4.4 1.5 0.4]\n",
      " [5.4 3.9 1.3 0.4]\n",
      " [5.1 3.5 1.4 0.3]\n",
      " [5.7 3.8 1.7 0.3]\n",
      " [5.1 3.8 1.5 0.3]\n",
      " [5.4 3.4 1.7 0.2]\n",
      " [5.1 3.7 1.5 0.4]\n",
      " [4.6 3.6 1.  0.2]\n",
      " [5.1 3.3 1.7 0.5]\n",
      " [4.8 3.4 1.9 0.2]\n",
      " [5.  3.  1.6 0.2]\n",
      " [5.  3.4 1.6 0.4]\n",
      " [5.2 3.5 1.5 0.2]\n",
      " [5.2 3.4 1.4 0.2]\n",
      " [4.7 3.2 1.6 0.2]\n",
      " [4.8 3.1 1.6 0.2]\n",
      " [5.4 3.4 1.5 0.4]\n",
      " [5.2 4.1 1.5 0.1]\n",
      " [5.5 4.2 1.4 0.2]\n",
      " [4.9 3.1 1.5 0.2]\n",
      " [5.  3.2 1.2 0.2]\n",
      " [5.5 3.5 1.3 0.2]\n",
      " [4.9 3.6 1.4 0.1]\n",
      " [4.4 3.  1.3 0.2]\n",
      " [5.1 3.4 1.5 0.2]\n",
      " [5.  3.5 1.3 0.3]\n",
      " [4.5 2.3 1.3 0.3]\n",
      " [4.4 3.2 1.3 0.2]\n",
      " [5.  3.5 1.6 0.6]\n",
      " [5.1 3.8 1.9 0.4]\n",
      " [4.8 3.  1.4 0.3]\n",
      " [5.1 3.8 1.6 0.2]\n",
      " [4.6 3.2 1.4 0.2]\n",
      " [5.3 3.7 1.5 0.2]\n",
      " [5.  3.3 1.4 0.2]\n",
      " [7.  3.2 4.7 1.4]\n",
      " [6.4 3.2 4.5 1.5]\n",
      " [6.9 3.1 4.9 1.5]\n",
      " [5.5 2.3 4.  1.3]\n",
      " [6.5 2.8 4.6 1.5]\n",
      " [5.7 2.8 4.5 1.3]\n",
      " [6.3 3.3 4.7 1.6]\n",
      " [4.9 2.4 3.3 1. ]\n",
      " [6.6 2.9 4.6 1.3]\n",
      " [5.2 2.7 3.9 1.4]\n",
      " [5.  2.  3.5 1. ]\n",
      " [5.9 3.  4.2 1.5]\n",
      " [6.  2.2 4.  1. ]\n",
      " [6.1 2.9 4.7 1.4]\n",
      " [5.6 2.9 3.6 1.3]\n",
      " [6.7 3.1 4.4 1.4]\n",
      " [5.6 3.  4.5 1.5]\n",
      " [5.8 2.7 4.1 1. ]\n",
      " [6.2 2.2 4.5 1.5]\n",
      " [5.6 2.5 3.9 1.1]\n",
      " [5.9 3.2 4.8 1.8]\n",
      " [6.1 2.8 4.  1.3]\n",
      " [6.3 2.5 4.9 1.5]\n",
      " [6.1 2.8 4.7 1.2]\n",
      " [6.4 2.9 4.3 1.3]\n",
      " [6.6 3.  4.4 1.4]\n",
      " [6.8 2.8 4.8 1.4]\n",
      " [6.7 3.  5.  1.7]\n",
      " [6.  2.9 4.5 1.5]\n",
      " [5.7 2.6 3.5 1. ]\n",
      " [5.5 2.4 3.8 1.1]\n",
      " [5.5 2.4 3.7 1. ]\n",
      " [5.8 2.7 3.9 1.2]\n",
      " [6.  2.7 5.1 1.6]\n",
      " [5.4 3.  4.5 1.5]\n",
      " [6.  3.4 4.5 1.6]\n",
      " [6.7 3.1 4.7 1.5]\n",
      " [6.3 2.3 4.4 1.3]\n",
      " [5.6 3.  4.1 1.3]\n",
      " [5.5 2.5 4.  1.3]\n",
      " [5.5 2.6 4.4 1.2]\n",
      " [6.1 3.  4.6 1.4]\n",
      " [5.8 2.6 4.  1.2]\n",
      " [5.  2.3 3.3 1. ]\n",
      " [5.6 2.7 4.2 1.3]\n",
      " [5.7 3.  4.2 1.2]\n",
      " [5.7 2.9 4.2 1.3]\n",
      " [6.2 2.9 4.3 1.3]\n",
      " [5.1 2.5 3.  1.1]\n",
      " [5.7 2.8 4.1 1.3]\n",
      " [6.3 3.3 6.  2.5]\n",
      " [5.8 2.7 5.1 1.9]\n",
      " [7.1 3.  5.9 2.1]\n",
      " [6.3 2.9 5.6 1.8]\n",
      " [6.5 3.  5.8 2.2]\n",
      " [7.6 3.  6.6 2.1]\n",
      " [4.9 2.5 4.5 1.7]\n",
      " [7.3 2.9 6.3 1.8]\n",
      " [6.7 2.5 5.8 1.8]\n",
      " [7.2 3.6 6.1 2.5]\n",
      " [6.5 3.2 5.1 2. ]\n",
      " [6.4 2.7 5.3 1.9]\n",
      " [6.8 3.  5.5 2.1]\n",
      " [5.7 2.5 5.  2. ]\n",
      " [5.8 2.8 5.1 2.4]\n",
      " [6.4 3.2 5.3 2.3]\n",
      " [6.5 3.  5.5 1.8]\n",
      " [7.7 3.8 6.7 2.2]\n",
      " [7.7 2.6 6.9 2.3]\n",
      " [6.  2.2 5.  1.5]\n",
      " [6.9 3.2 5.7 2.3]\n",
      " [5.6 2.8 4.9 2. ]\n",
      " [7.7 2.8 6.7 2. ]\n",
      " [6.3 2.7 4.9 1.8]\n",
      " [6.7 3.3 5.7 2.1]\n",
      " [7.2 3.2 6.  1.8]\n",
      " [6.2 2.8 4.8 1.8]\n",
      " [6.1 3.  4.9 1.8]\n",
      " [6.4 2.8 5.6 2.1]\n",
      " [7.2 3.  5.8 1.6]\n",
      " [7.4 2.8 6.1 1.9]\n",
      " [7.9 3.8 6.4 2. ]\n",
      " [6.4 2.8 5.6 2.2]\n",
      " [6.3 2.8 5.1 1.5]\n",
      " [6.1 2.6 5.6 1.4]\n",
      " [7.7 3.  6.1 2.3]\n",
      " [6.3 3.4 5.6 2.4]\n",
      " [6.4 3.1 5.5 1.8]\n",
      " [6.  3.  4.8 1.8]\n",
      " [6.9 3.1 5.4 2.1]\n",
      " [6.7 3.1 5.6 2.4]\n",
      " [6.9 3.1 5.1 2.3]\n",
      " [5.8 2.7 5.1 1.9]\n",
      " [6.8 3.2 5.9 2.3]\n",
      " [6.7 3.3 5.7 2.5]\n",
      " [6.7 3.  5.2 2.3]\n",
      " [6.3 2.5 5.  1.9]\n",
      " [6.5 3.  5.2 2. ]\n",
      " [6.2 3.4 5.4 2.3]\n",
      " [5.9 3.  5.1 1.8]]\n"
     ]
    }
   ],
   "source": [
    "print(X)"
   ]
  },
  {
   "cell_type": "code",
   "execution_count": 4,
   "metadata": {},
   "outputs": [
    {
     "name": "stdout",
     "output_type": "stream",
     "text": [
      "[0 0 0 0 0 0 0 0 0 0 0 0 0 0 0 0 0 0 0 0 0 0 0 0 0 0 0 0 0 0 0 0 0 0 0 0 0\n",
      " 0 0 0 0 0 0 0 0 0 0 0 0 0 1 1 1 1 1 1 1 1 1 1 1 1 1 1 1 1 1 1 1 1 1 1 1 1\n",
      " 1 1 1 1 1 1 1 1 1 1 1 1 1 1 1 1 1 1 1 1 1 1 1 1 1 1 2 2 2 2 2 2 2 2 2 2 2\n",
      " 2 2 2 2 2 2 2 2 2 2 2 2 2 2 2 2 2 2 2 2 2 2 2 2 2 2 2 2 2 2 2 2 2 2 2 2 2\n",
      " 2 2]\n"
     ]
    }
   ],
   "source": [
    "print(y)"
   ]
  },
  {
   "cell_type": "code",
   "execution_count": 5,
   "metadata": {},
   "outputs": [],
   "source": [
    "X, y = X[y != 2], y[y != 2]    #去掉了label为2，label只能二分，才可以。  \n",
    "n_samples, n_features = X.shape  "
   ]
  },
  {
   "cell_type": "code",
   "execution_count": 7,
   "metadata": {},
   "outputs": [
    {
     "name": "stdout",
     "output_type": "stream",
     "text": [
      "100 4\n"
     ]
    }
   ],
   "source": [
    "print(n_samples,n_features)"
   ]
  },
  {
   "cell_type": "code",
   "execution_count": 6,
   "metadata": {},
   "outputs": [],
   "source": [
    "# Add noisy features  \n",
    "random_state = np.random.RandomState(0)  \n",
    "X = np.c_[X, random_state.randn(n_samples, 200 * n_features)]  #将切片对象转换为按第二个轴连接"
   ]
  },
  {
   "cell_type": "code",
   "execution_count": 16,
   "metadata": {},
   "outputs": [
    {
     "data": {
      "text/plain": [
       "(100, 800)"
      ]
     },
     "execution_count": 16,
     "metadata": {},
     "output_type": "execute_result"
    }
   ],
   "source": [
    "random_state.randn(n_samples, 200 * n_features).shape"
   ]
  },
  {
   "cell_type": "code",
   "execution_count": 15,
   "metadata": {},
   "outputs": [
    {
     "name": "stdout",
     "output_type": "stream",
     "text": [
      "(100, 804)\n"
     ]
    }
   ],
   "source": [
    "print(X.shape)"
   ]
  },
  {
   "cell_type": "markdown",
   "metadata": {},
   "source": [
    "所以上面的np.c_函数就是将X和噪音特征横向并在一起，得到新的X"
   ]
  },
  {
   "cell_type": "code",
   "execution_count": 19,
   "metadata": {},
   "outputs": [],
   "source": [
    "###############################################################################  \n",
    "# Classification and ROC analysis  \n",
    "#分类，做ROC分析  \n",
    "  \n",
    "# Run classifier with cross-validation and plot ROC curves  \n",
    "#使用6折交叉验证，并且画ROC曲线  \n",
    "#cv = StratifiedKFold(y, n_folds=6) \n",
    "n_s = 5\n",
    "cv = StratifiedKFold(n_splits=n_s)   #5折交叉验证\n",
    "#cv.get_n_splits(y)\n",
    "classifier = svm.SVC(kernel='linear', probability=True,    #构建分类器\n",
    "                     random_state=random_state)#注意这里，probability=True,需要，不然预测的时候会出现异常。另外rbf核效果更好些。  \n",
    "  \n",
    "mean_tpr = 0.0  \n",
    "mean_fpr = np.linspace(0, 1, 100)   #0-1分成100份\n",
    "all_tpr = []  "
   ]
  },
  {
   "cell_type": "code",
   "execution_count": 22,
   "metadata": {},
   "outputs": [
    {
     "name": "stderr",
     "output_type": "stream",
     "text": [
      "d:\\anaconda\\anaconda3\\envs\\py37\\lib\\site-packages\\ipykernel_launcher.py:12: DeprecationWarning: scipy.interp is deprecated and will be removed in SciPy 2.0.0, use numpy.interp instead\n",
      "  if sys.path[0] == '':\n",
      "d:\\anaconda\\anaconda3\\envs\\py37\\lib\\site-packages\\ipykernel_launcher.py:12: DeprecationWarning: scipy.interp is deprecated and will be removed in SciPy 2.0.0, use numpy.interp instead\n",
      "  if sys.path[0] == '':\n",
      "d:\\anaconda\\anaconda3\\envs\\py37\\lib\\site-packages\\ipykernel_launcher.py:12: DeprecationWarning: scipy.interp is deprecated and will be removed in SciPy 2.0.0, use numpy.interp instead\n",
      "  if sys.path[0] == '':\n",
      "d:\\anaconda\\anaconda3\\envs\\py37\\lib\\site-packages\\ipykernel_launcher.py:12: DeprecationWarning: scipy.interp is deprecated and will be removed in SciPy 2.0.0, use numpy.interp instead\n",
      "  if sys.path[0] == '':\n",
      "d:\\anaconda\\anaconda3\\envs\\py37\\lib\\site-packages\\ipykernel_launcher.py:12: DeprecationWarning: scipy.interp is deprecated and will be removed in SciPy 2.0.0, use numpy.interp instead\n",
      "  if sys.path[0] == '':\n"
     ]
    },
    {
     "data": {
      "image/png": "[encoded data removed]",
      "text/plain": [
       "<Figure size 432x288 with 1 Axes>"
      ]
     },
     "metadata": {
      "needs_background": "light"
     },
     "output_type": "display_data"
    }
   ],
   "source": [
    "for i, (train, test) in enumerate(cv.split(X,y)):  \n",
    "    #通过训练数据，使用svm线性核建立模型，并对测试集进行测试，求出预测得分  \n",
    "    probas_ = classifier.fit(X[train], y[train]).predict_proba(X[test])  \n",
    "#    print set(y[train])                     #set([0,1]) 即label有两个类别  \n",
    "#    print len(X[train]),len(X[test])        #训练集有84个，测试集有16个  \n",
    "#    print \"++\",probas_                      #predict_proba()函数输出的是测试集在lael各类别上的置信度，  \n",
    "#    #在哪个类别上的置信度高，则分为哪类  \n",
    "\n",
    "    # Compute ROC curve and area the curve  \n",
    "    #通过roc_curve()函数，求出fpr和tpr，以及阈值thresholds \n",
    "    fpr, tpr, thresholds = roc_curve(y[test], probas_[:, 1])   #fpr：假阳性率；tpr：真阳性率\n",
    "    mean_tpr += interp(mean_fpr, fpr, tpr)          #mean_fpr是待插入数据的横坐标，相当于我用fpr和tpr建立回归函数，然后以mean_fpr为新的自变量，获得新的预测的y变量 \n",
    "    mean_tpr[0] = 0.0                               #初始处为0  \n",
    "    roc_auc = auc(fpr, tpr)  \n",
    "    #画图，只需要plt.plot(fpr,tpr),变量roc_auc只是记录auc的值，通过auc()函数能计算出来  \n",
    "    plt.plot(fpr, tpr, lw=1, label='ROC fold %d (area = %0.2f)' % (i, roc_auc))  \n",
    "\n",
    "#画对角线  \n",
    "plt.plot([0, 1], [0, 1], '--', color=(0.6, 0.6, 0.6), label='Luck')  \n",
    "  \n",
    "#mean_tpr /= len(y)                     #在mean_fpr100个点，每个点处插值插值多次取平均  \n",
    "mean_tpr /= n_s      \n",
    "mean_tpr[-1] = 1.0                      #坐标最后一个点为（1,1）  \n",
    "mean_auc = auc(mean_fpr, mean_tpr)      #计算平均AUC值  \n",
    "#画平均ROC曲线  \n",
    "#print mean_fpr,len(mean_fpr)  \n",
    "#print mean_tpr  \n",
    "plt.plot(mean_fpr, mean_tpr, 'k--',  \n",
    "         label='Mean ROC (area = %0.2f)' % mean_auc, lw=2)  \n",
    "  \n",
    "plt.xlim([-0.05, 1.05])  \n",
    "plt.ylim([-0.05, 1.05])  \n",
    "plt.xlabel('False Positive Rate')  \n",
    "plt.ylabel('True Positive Rate')  \n",
    "plt.title('Receiver operating characteristic example')  \n",
    "plt.legend(loc=\"lower right\")  \n",
    "plt.show()  "
   ]
  },
  {
   "cell_type": "markdown",
   "metadata": {},
   "source": [
    "# 简单数据的例子"
   ]
  },
  {
   "cell_type": "code",
   "execution_count": 23,
   "metadata": {},
   "outputs": [
    {
     "name": "stdout",
     "output_type": "stream",
     "text": [
      "[0.         0.         0.         0.66666667 0.66666667 1.        ]\n",
      "[0.         0.33333333 0.66666667 0.66666667 1.         1.        ]\n",
      "[1.8  0.8  0.7  0.4  0.35 0.1 ]\n"
     ]
    }
   ],
   "source": [
    "y = np.array([1,1,1,2,2,2])\n",
    "pred = np.array([0.1,0.6,0.4,0.35,0.7,0.8])\n",
    "fpr, tpr, thresholds = roc_curve(y, pred, pos_label=2)\n",
    "print(fpr)\n",
    "print(tpr)\n",
    "print(thresholds)"
   ]
  },
  {
   "cell_type": "code",
   "execution_count": 24,
   "metadata": {},
   "outputs": [
    {
     "name": "stdout",
     "output_type": "stream",
     "text": [
      "0.7777777777777778\n"
     ]
    },
    {
     "data": {
      "image/png": "[encoded data removed]",
      "text/plain": [
       "<Figure size 432x288 with 1 Axes>"
      ]
     },
     "metadata": {
      "needs_background": "light"
     },
     "output_type": "display_data"
    }
   ],
   "source": [
    "from sklearn.metrics import auc\n",
    "print(auc(fpr, tpr))\n",
    "\n",
    "plt.plot(fpr,tpr)\n",
    "plt.plot([0, 1], [0, 1], '--', color=(0, 0, 1))\n",
    "plt.show()"
   ]
  },
  {
   "cell_type": "code",
   "execution_count": 25,
   "metadata": {},
   "outputs": [
    {
     "name": "stdout",
     "output_type": "stream",
     "text": [
      "[0.63208819 0.72796493 0.23031656 0.03603117 0.14774209 0.77584897\n",
      " 0.45180616 0.34457478 0.56415537 0.66717581 0.04159018 0.20991469\n",
      " 0.78477151 0.70677294 0.61281257 0.19056219 0.57683545 0.67183794\n",
      " 0.23450491 0.33239734 0.42287381 0.66979214 0.58503846 0.35080261\n",
      " 0.50348266 0.10643096 0.46781188 0.32323854 0.37624103 0.57609368\n",
      " 0.47935178 0.62643617 0.36300217 0.13718446 0.26416095 0.39018562\n",
      " 0.60766869 0.25013682 0.46937123 0.58127292 0.00353362 0.70078513\n",
      " 0.38828779 0.23466925 0.57330405 0.6661071  0.49032865 0.0764127\n",
      " 0.35525194 0.52623751 0.51541955 0.40131937 0.88414664 0.90617268\n",
      " 0.44287988 0.65134201 0.27313099 0.89365282 0.75938228 0.24354478\n",
      " 0.52289291 0.31069234 0.60468162 0.70816234 0.35202313 0.42660398\n",
      " 0.30436383 0.39917698 0.46558824 0.8806016  0.42521816 0.30785308\n",
      " 0.86827818 0.83595323 0.60994166 0.43096726 0.77779121 0.93140554\n",
      " 0.83695541 0.98000303 0.99467489 0.38080507 0.86602708 0.94413011\n",
      " 0.20911235 0.98200466 0.98693149 0.58306261 0.39199446 0.21302018\n",
      " 0.3234021  0.37811266 0.71413024 0.84338172 0.23820975 0.89625281\n",
      " 0.68891882 0.55831935 0.83418419 0.74839053]\n"
     ]
    }
   ],
   "source": [
    "a=[1]*50\n",
    "b=[2]*50\n",
    "y=np.array(a+b)   #y是真实地标签\n",
    "\n",
    "prob_a = np.random.rand(50)*0.8\n",
    "prob_b = 1-np.random.rand(50)*0.8\n",
    "prob = np.array(list(prob_a)+list(prob_b))   #prob是假设模拟得到的预测结果\n",
    "print(prob)"
   ]
  },
  {
   "cell_type": "code",
   "execution_count": 31,
   "metadata": {},
   "outputs": [
    {
     "name": "stdout",
     "output_type": "stream",
     "text": [
      "<class 'list'>\n",
      "[2, 2, 2, 2, 2, 2, 2, 2, 2, 2, 2, 2, 2, 2, 2, 2, 2, 2, 2, 2, 2, 2, 2, 2, 2, 2, 2, 2, 2, 2, 2, 2, 2, 2, 2, 2, 2, 2, 2, 2, 2, 2, 2, 2, 2, 2, 2, 2, 2, 2]\n",
      "[1, 1, 1, 1, 1, 1, 1, 1, 1, 1, 1, 1, 1, 1, 1, 1, 1, 1, 1, 1, 1, 1, 1, 1, 1, 1, 1, 1, 1, 1, 1, 1, 1, 1, 1, 1, 1, 1, 1, 1, 1, 1, 1, 1, 1, 1, 1, 1, 1, 1, 2, 2, 2, 2, 2, 2, 2, 2, 2, 2, 2, 2, 2, 2, 2, 2, 2, 2, 2, 2, 2, 2, 2, 2, 2, 2, 2, 2, 2, 2, 2, 2, 2, 2, 2, 2, 2, 2, 2, 2, 2, 2, 2, 2, 2, 2, 2, 2, 2, 2]\n",
      "[1 1 1 1 1 1 1 1 1 1 1 1 1 1 1 1 1 1 1 1 1 1 1 1 1 1 1 1 1 1 1 1 1 1 1 1 1\n",
      " 1 1 1 1 1 1 1 1 1 1 1 1 1 2 2 2 2 2 2 2 2 2 2 2 2 2 2 2 2 2 2 2 2 2 2 2 2\n",
      " 2 2 2 2 2 2 2 2 2 2 2 2 2 2 2 2 2 2 2 2 2 2 2 2 2 2]\n"
     ]
    }
   ],
   "source": [
    "print(type(a))\n",
    "print(b)\n",
    "print(a+b)  # a+b不是数字加起来，而是横向排列。 因为a,b是列表不是数字\n",
    "print(y)"
   ]
  },
  {
   "cell_type": "code",
   "execution_count": 56,
   "metadata": {},
   "outputs": [
    {
     "name": "stdout",
     "output_type": "stream",
     "text": [
      "[ 0.    0.    0.04  0.04  0.08  0.08  0.12  0.12  0.2   0.2   0.24  0.24\n",
      "  0.26  0.26  0.36  0.36  0.38  0.38  0.4   0.4   0.5   0.5   0.52  0.52\n",
      "  0.54  0.54  0.56  0.56  0.6   0.6   0.68  0.68  1.  ]\n",
      "[ 0.02  0.42  0.42  0.46  0.46  0.5   0.5   0.54  0.54  0.62  0.62  0.66\n",
      "  0.66  0.7   0.7   0.72  0.72  0.74  0.74  0.76  0.76  0.8   0.8   0.84\n",
      "  0.84  0.9   0.9   0.94  0.94  0.96  0.96  1.    1.  ]\n",
      "[ 0.97431794  0.77391122  0.76900811  0.75373959  0.72933347  0.72852786\n",
      "  0.71877238  0.69740595  0.67939404  0.65829882  0.64271243  0.61493951\n",
      "  0.59447466  0.59123576  0.50743256  0.49239093  0.49175411  0.48557423\n",
      "  0.48139776  0.46829489  0.4225364   0.41388464  0.41033532  0.39216487\n",
      "  0.38666679  0.35181304  0.3359938   0.31910479  0.30981776  0.30962194\n",
      "  0.23464554  0.21225185  0.00954832]\n",
      "0.7968\n"
     ]
    },
    {
     "data": {
      "image/png": "[encoded data removed]",
      "text/plain": [
       "<matplotlib.figure.Figure at 0x202f7011630>"
      ]
     },
     "metadata": {},
     "output_type": "display_data"
    }
   ],
   "source": [
    "fpr, tpr, thresholds = roc_curve(y, prob, pos_label=2)\n",
    "print(fpr)\n",
    "print(tpr)\n",
    "print(thresholds)\n",
    "print(auc(fpr, tpr))\n",
    "\n",
    "plt.plot(fpr,tpr)\n",
    "plt.plot([0, 1], [0, 1], '--', color=(0, 0, 1))\n",
    "plt.show()"
   ]
  },
  {
   "cell_type": "markdown",
   "metadata": {},
   "source": [
    "# 利用pandas进行AUC和ROC的代码编写"
   ]
  },
  {
   "cell_type": "code",
   "execution_count": 32,
   "metadata": {},
   "outputs": [],
   "source": [
    "import pandas as pd\n",
    "import matplotlib.pyplot as plt\n",
    "import numpy as np\n",
    "\n",
    "%matplotlib inline\n",
    "\n",
    "#测试样本的数量\n",
    "parameter=40"
   ]
  },
  {
   "cell_type": "code",
   "execution_count": 33,
   "metadata": {},
   "outputs": [],
   "source": [
    "data=pd.DataFrame(index=range(0,parameter),columns=('probability','The true label'))\n",
    "data['The true label']=np.random.randint(0,2,size=len(data))\n",
    "data['probability']=np.random.choice(np.arange(0.1,1,0.1),len(data['probability']))"
   ]
  },
  {
   "cell_type": "code",
   "execution_count": 34,
   "metadata": {},
   "outputs": [
    {
     "name": "stdout",
     "output_type": "stream",
     "text": [
      "    probability  The true label\n",
      "0           0.6               0\n",
      "1           0.2               0\n",
      "2           0.6               1\n",
      "3           0.2               1\n",
      "4           0.5               1\n",
      "5           0.6               0\n",
      "6           0.9               0\n",
      "7           0.2               0\n",
      "8           0.4               1\n",
      "9           0.9               0\n",
      "10          0.7               0\n",
      "11          0.5               0\n",
      "12          0.8               0\n",
      "13          0.5               0\n",
      "14          0.1               1\n",
      "15          0.3               1\n",
      "16          0.3               1\n",
      "17          0.4               1\n",
      "18          0.6               0\n",
      "19          0.9               1\n",
      "20          0.6               1\n",
      "21          0.2               1\n",
      "22          0.7               0\n",
      "23          0.2               0\n",
      "24          0.4               1\n",
      "25          0.8               0\n",
      "26          0.5               0\n",
      "27          0.9               1\n",
      "28          0.8               0\n",
      "29          0.2               0\n",
      "30          0.2               0\n",
      "31          0.9               1\n",
      "32          0.3               1\n",
      "33          0.8               0\n",
      "34          0.3               1\n",
      "35          0.9               0\n",
      "36          0.5               1\n",
      "37          0.3               1\n",
      "38          0.2               1\n",
      "39          0.4               1\n"
     ]
    }
   ],
   "source": [
    "print(data)  #查看得到的数据框    假设probability是得到的预测分类概率"
   ]
  },
  {
   "cell_type": "markdown",
   "metadata": {},
   "source": [
    "## 计算混淆矩阵"
   ]
  },
  {
   "cell_type": "code",
   "execution_count": 36,
   "metadata": {},
   "outputs": [
    {
     "name": "stderr",
     "output_type": "stream",
     "text": [
      "d:\\anaconda\\anaconda3\\envs\\py37\\lib\\site-packages\\ipykernel_launcher.py:3: UserWarning: Boolean Series key will be reindexed to match DataFrame index.\n",
      "  This is separate from the ipykernel package so we can avoid doing imports until\n",
      "d:\\anaconda\\anaconda3\\envs\\py37\\lib\\site-packages\\ipykernel_launcher.py:4: UserWarning: Boolean Series key will be reindexed to match DataFrame index.\n",
      "  after removing the cwd from sys.path.\n",
      "d:\\anaconda\\anaconda3\\envs\\py37\\lib\\site-packages\\ipykernel_launcher.py:5: UserWarning: Boolean Series key will be reindexed to match DataFrame index.\n",
      "  \"\"\"\n",
      "d:\\anaconda\\anaconda3\\envs\\py37\\lib\\site-packages\\ipykernel_launcher.py:6: UserWarning: Boolean Series key will be reindexed to match DataFrame index.\n",
      "  \n"
     ]
    }
   ],
   "source": [
    "cm=np.arange(4).reshape(2,2)\n",
    "\n",
    "cm[0,0]=len(data[data['The true label']==0][data['probability']<0.5]) #TN\n",
    "cm[0,1]=len(data[data['The true label']==0][data['probability']>=0.5])#FP 假正例\n",
    "cm[1,0]=len(data[data['The true label']==1][data['probability']<0.5]) #FN\n",
    "cm[1,1]=len(data[data['The true label']==1][data['probability']>=0.5])#TP"
   ]
  },
  {
   "cell_type": "code",
   "execution_count": 41,
   "metadata": {},
   "outputs": [
    {
     "name": "stdout",
     "output_type": "stream",
     "text": [
      "[[ 5 15]\n",
      " [13  7]]\n"
     ]
    }
   ],
   "source": [
    "print(cm)"
   ]
  },
  {
   "cell_type": "markdown",
   "metadata": {},
   "source": [
    "## 计算假正率和真正率"
   ]
  },
  {
   "cell_type": "markdown",
   "metadata": {},
   "source": [
    "真正例率=真正例/(真正例+假反例)；\n",
    "假正例率=假正例/(假正例+真反例)"
   ]
  },
  {
   "cell_type": "markdown",
   "metadata": {},
   "source": [
    "所以这里计算得真正例率=7/（7+13）;假正例率=15/（15+5）"
   ]
  },
  {
   "cell_type": "markdown",
   "metadata": {},
   "source": [
    "## 绘制曲线"
   ]
  },
  {
   "cell_type": "code",
   "execution_count": 43,
   "metadata": {},
   "outputs": [],
   "source": [
    "data.sort_values('probability',inplace=True,ascending=False)"
   ]
  },
  {
   "cell_type": "markdown",
   "metadata": {},
   "source": [
    "在每个概率下计算真正例率和假正例率"
   ]
  },
  {
   "cell_type": "code",
   "execution_count": 46,
   "metadata": {},
   "outputs": [
    {
     "name": "stderr",
     "output_type": "stream",
     "text": [
      "d:\\anaconda\\anaconda3\\envs\\py37\\lib\\site-packages\\ipykernel_launcher.py:7: UserWarning: Boolean Series key will be reindexed to match DataFrame index.\n",
      "  import sys\n",
      "d:\\anaconda\\anaconda3\\envs\\py37\\lib\\site-packages\\ipykernel_launcher.py:5: UserWarning: Boolean Series key will be reindexed to match DataFrame index.\n",
      "  \"\"\"\n",
      "d:\\anaconda\\anaconda3\\envs\\py37\\lib\\site-packages\\ipykernel_launcher.py:7: UserWarning: Boolean Series key will be reindexed to match DataFrame index.\n",
      "  import sys\n",
      "d:\\anaconda\\anaconda3\\envs\\py37\\lib\\site-packages\\ipykernel_launcher.py:5: UserWarning: Boolean Series key will be reindexed to match DataFrame index.\n",
      "  \"\"\"\n",
      "d:\\anaconda\\anaconda3\\envs\\py37\\lib\\site-packages\\ipykernel_launcher.py:7: UserWarning: Boolean Series key will be reindexed to match DataFrame index.\n",
      "  import sys\n",
      "d:\\anaconda\\anaconda3\\envs\\py37\\lib\\site-packages\\ipykernel_launcher.py:5: UserWarning: Boolean Series key will be reindexed to match DataFrame index.\n",
      "  \"\"\"\n",
      "d:\\anaconda\\anaconda3\\envs\\py37\\lib\\site-packages\\ipykernel_launcher.py:7: UserWarning: Boolean Series key will be reindexed to match DataFrame index.\n",
      "  import sys\n",
      "d:\\anaconda\\anaconda3\\envs\\py37\\lib\\site-packages\\ipykernel_launcher.py:5: UserWarning: Boolean Series key will be reindexed to match DataFrame index.\n",
      "  \"\"\"\n",
      "d:\\anaconda\\anaconda3\\envs\\py37\\lib\\site-packages\\ipykernel_launcher.py:7: UserWarning: Boolean Series key will be reindexed to match DataFrame index.\n",
      "  import sys\n",
      "d:\\anaconda\\anaconda3\\envs\\py37\\lib\\site-packages\\ipykernel_launcher.py:5: UserWarning: Boolean Series key will be reindexed to match DataFrame index.\n",
      "  \"\"\"\n",
      "d:\\anaconda\\anaconda3\\envs\\py37\\lib\\site-packages\\ipykernel_launcher.py:7: UserWarning: Boolean Series key will be reindexed to match DataFrame index.\n",
      "  import sys\n",
      "d:\\anaconda\\anaconda3\\envs\\py37\\lib\\site-packages\\ipykernel_launcher.py:5: UserWarning: Boolean Series key will be reindexed to match DataFrame index.\n",
      "  \"\"\"\n",
      "d:\\anaconda\\anaconda3\\envs\\py37\\lib\\site-packages\\ipykernel_launcher.py:7: UserWarning: Boolean Series key will be reindexed to match DataFrame index.\n",
      "  import sys\n",
      "d:\\anaconda\\anaconda3\\envs\\py37\\lib\\site-packages\\ipykernel_launcher.py:5: UserWarning: Boolean Series key will be reindexed to match DataFrame index.\n",
      "  \"\"\"\n",
      "d:\\anaconda\\anaconda3\\envs\\py37\\lib\\site-packages\\ipykernel_launcher.py:7: UserWarning: Boolean Series key will be reindexed to match DataFrame index.\n",
      "  import sys\n",
      "d:\\anaconda\\anaconda3\\envs\\py37\\lib\\site-packages\\ipykernel_launcher.py:5: UserWarning: Boolean Series key will be reindexed to match DataFrame index.\n",
      "  \"\"\"\n",
      "d:\\anaconda\\anaconda3\\envs\\py37\\lib\\site-packages\\ipykernel_launcher.py:7: UserWarning: Boolean Series key will be reindexed to match DataFrame index.\n",
      "  import sys\n",
      "d:\\anaconda\\anaconda3\\envs\\py37\\lib\\site-packages\\ipykernel_launcher.py:5: UserWarning: Boolean Series key will be reindexed to match DataFrame index.\n",
      "  \"\"\"\n",
      "d:\\anaconda\\anaconda3\\envs\\py37\\lib\\site-packages\\ipykernel_launcher.py:7: UserWarning: Boolean Series key will be reindexed to match DataFrame index.\n",
      "  import sys\n",
      "d:\\anaconda\\anaconda3\\envs\\py37\\lib\\site-packages\\ipykernel_launcher.py:5: UserWarning: Boolean Series key will be reindexed to match DataFrame index.\n",
      "  \"\"\"\n",
      "d:\\anaconda\\anaconda3\\envs\\py37\\lib\\site-packages\\ipykernel_launcher.py:7: UserWarning: Boolean Series key will be reindexed to match DataFrame index.\n",
      "  import sys\n",
      "d:\\anaconda\\anaconda3\\envs\\py37\\lib\\site-packages\\ipykernel_launcher.py:5: UserWarning: Boolean Series key will be reindexed to match DataFrame index.\n",
      "  \"\"\"\n",
      "d:\\anaconda\\anaconda3\\envs\\py37\\lib\\site-packages\\ipykernel_launcher.py:7: UserWarning: Boolean Series key will be reindexed to match DataFrame index.\n",
      "  import sys\n",
      "d:\\anaconda\\anaconda3\\envs\\py37\\lib\\site-packages\\ipykernel_launcher.py:5: UserWarning: Boolean Series key will be reindexed to match DataFrame index.\n",
      "  \"\"\"\n",
      "d:\\anaconda\\anaconda3\\envs\\py37\\lib\\site-packages\\ipykernel_launcher.py:7: UserWarning: Boolean Series key will be reindexed to match DataFrame index.\n",
      "  import sys\n",
      "d:\\anaconda\\anaconda3\\envs\\py37\\lib\\site-packages\\ipykernel_launcher.py:5: UserWarning: Boolean Series key will be reindexed to match DataFrame index.\n",
      "  \"\"\"\n",
      "d:\\anaconda\\anaconda3\\envs\\py37\\lib\\site-packages\\ipykernel_launcher.py:7: UserWarning: Boolean Series key will be reindexed to match DataFrame index.\n",
      "  import sys\n",
      "d:\\anaconda\\anaconda3\\envs\\py37\\lib\\site-packages\\ipykernel_launcher.py:5: UserWarning: Boolean Series key will be reindexed to match DataFrame index.\n",
      "  \"\"\"\n",
      "d:\\anaconda\\anaconda3\\envs\\py37\\lib\\site-packages\\ipykernel_launcher.py:7: UserWarning: Boolean Series key will be reindexed to match DataFrame index.\n",
      "  import sys\n",
      "d:\\anaconda\\anaconda3\\envs\\py37\\lib\\site-packages\\ipykernel_launcher.py:5: UserWarning: Boolean Series key will be reindexed to match DataFrame index.\n",
      "  \"\"\"\n",
      "d:\\anaconda\\anaconda3\\envs\\py37\\lib\\site-packages\\ipykernel_launcher.py:7: UserWarning: Boolean Series key will be reindexed to match DataFrame index.\n",
      "  import sys\n",
      "d:\\anaconda\\anaconda3\\envs\\py37\\lib\\site-packages\\ipykernel_launcher.py:5: UserWarning: Boolean Series key will be reindexed to match DataFrame index.\n",
      "  \"\"\"\n",
      "d:\\anaconda\\anaconda3\\envs\\py37\\lib\\site-packages\\ipykernel_launcher.py:7: UserWarning: Boolean Series key will be reindexed to match DataFrame index.\n",
      "  import sys\n",
      "d:\\anaconda\\anaconda3\\envs\\py37\\lib\\site-packages\\ipykernel_launcher.py:5: UserWarning: Boolean Series key will be reindexed to match DataFrame index.\n",
      "  \"\"\"\n",
      "d:\\anaconda\\anaconda3\\envs\\py37\\lib\\site-packages\\ipykernel_launcher.py:7: UserWarning: Boolean Series key will be reindexed to match DataFrame index.\n",
      "  import sys\n",
      "d:\\anaconda\\anaconda3\\envs\\py37\\lib\\site-packages\\ipykernel_launcher.py:5: UserWarning: Boolean Series key will be reindexed to match DataFrame index.\n",
      "  \"\"\"\n",
      "d:\\anaconda\\anaconda3\\envs\\py37\\lib\\site-packages\\ipykernel_launcher.py:7: UserWarning: Boolean Series key will be reindexed to match DataFrame index.\n",
      "  import sys\n",
      "d:\\anaconda\\anaconda3\\envs\\py37\\lib\\site-packages\\ipykernel_launcher.py:5: UserWarning: Boolean Series key will be reindexed to match DataFrame index.\n",
      "  \"\"\"\n",
      "d:\\anaconda\\anaconda3\\envs\\py37\\lib\\site-packages\\ipykernel_launcher.py:7: UserWarning: Boolean Series key will be reindexed to match DataFrame index.\n",
      "  import sys\n",
      "d:\\anaconda\\anaconda3\\envs\\py37\\lib\\site-packages\\ipykernel_launcher.py:5: UserWarning: Boolean Series key will be reindexed to match DataFrame index.\n",
      "  \"\"\"\n",
      "d:\\anaconda\\anaconda3\\envs\\py37\\lib\\site-packages\\ipykernel_launcher.py:7: UserWarning: Boolean Series key will be reindexed to match DataFrame index.\n",
      "  import sys\n",
      "d:\\anaconda\\anaconda3\\envs\\py37\\lib\\site-packages\\ipykernel_launcher.py:5: UserWarning: Boolean Series key will be reindexed to match DataFrame index.\n",
      "  \"\"\"\n",
      "d:\\anaconda\\anaconda3\\envs\\py37\\lib\\site-packages\\ipykernel_launcher.py:7: UserWarning: Boolean Series key will be reindexed to match DataFrame index.\n",
      "  import sys\n",
      "d:\\anaconda\\anaconda3\\envs\\py37\\lib\\site-packages\\ipykernel_launcher.py:5: UserWarning: Boolean Series key will be reindexed to match DataFrame index.\n",
      "  \"\"\"\n",
      "d:\\anaconda\\anaconda3\\envs\\py37\\lib\\site-packages\\ipykernel_launcher.py:7: UserWarning: Boolean Series key will be reindexed to match DataFrame index.\n",
      "  import sys\n",
      "d:\\anaconda\\anaconda3\\envs\\py37\\lib\\site-packages\\ipykernel_launcher.py:5: UserWarning: Boolean Series key will be reindexed to match DataFrame index.\n",
      "  \"\"\"\n",
      "d:\\anaconda\\anaconda3\\envs\\py37\\lib\\site-packages\\ipykernel_launcher.py:7: UserWarning: Boolean Series key will be reindexed to match DataFrame index.\n",
      "  import sys\n",
      "d:\\anaconda\\anaconda3\\envs\\py37\\lib\\site-packages\\ipykernel_launcher.py:5: UserWarning: Boolean Series key will be reindexed to match DataFrame index.\n",
      "  \"\"\"\n",
      "d:\\anaconda\\anaconda3\\envs\\py37\\lib\\site-packages\\ipykernel_launcher.py:7: UserWarning: Boolean Series key will be reindexed to match DataFrame index.\n",
      "  import sys\n",
      "d:\\anaconda\\anaconda3\\envs\\py37\\lib\\site-packages\\ipykernel_launcher.py:5: UserWarning: Boolean Series key will be reindexed to match DataFrame index.\n",
      "  \"\"\"\n",
      "d:\\anaconda\\anaconda3\\envs\\py37\\lib\\site-packages\\ipykernel_launcher.py:7: UserWarning: Boolean Series key will be reindexed to match DataFrame index.\n",
      "  import sys\n",
      "d:\\anaconda\\anaconda3\\envs\\py37\\lib\\site-packages\\ipykernel_launcher.py:5: UserWarning: Boolean Series key will be reindexed to match DataFrame index.\n",
      "  \"\"\"\n",
      "d:\\anaconda\\anaconda3\\envs\\py37\\lib\\site-packages\\ipykernel_launcher.py:7: UserWarning: Boolean Series key will be reindexed to match DataFrame index.\n",
      "  import sys\n",
      "d:\\anaconda\\anaconda3\\envs\\py37\\lib\\site-packages\\ipykernel_launcher.py:5: UserWarning: Boolean Series key will be reindexed to match DataFrame index.\n",
      "  \"\"\"\n",
      "d:\\anaconda\\anaconda3\\envs\\py37\\lib\\site-packages\\ipykernel_launcher.py:7: UserWarning: Boolean Series key will be reindexed to match DataFrame index.\n",
      "  import sys\n",
      "d:\\anaconda\\anaconda3\\envs\\py37\\lib\\site-packages\\ipykernel_launcher.py:5: UserWarning: Boolean Series key will be reindexed to match DataFrame index.\n",
      "  \"\"\"\n",
      "d:\\anaconda\\anaconda3\\envs\\py37\\lib\\site-packages\\ipykernel_launcher.py:7: UserWarning: Boolean Series key will be reindexed to match DataFrame index.\n",
      "  import sys\n",
      "d:\\anaconda\\anaconda3\\envs\\py37\\lib\\site-packages\\ipykernel_launcher.py:5: UserWarning: Boolean Series key will be reindexed to match DataFrame index.\n",
      "  \"\"\"\n",
      "d:\\anaconda\\anaconda3\\envs\\py37\\lib\\site-packages\\ipykernel_launcher.py:7: UserWarning: Boolean Series key will be reindexed to match DataFrame index.\n",
      "  import sys\n",
      "d:\\anaconda\\anaconda3\\envs\\py37\\lib\\site-packages\\ipykernel_launcher.py:5: UserWarning: Boolean Series key will be reindexed to match DataFrame index.\n",
      "  \"\"\"\n",
      "d:\\anaconda\\anaconda3\\envs\\py37\\lib\\site-packages\\ipykernel_launcher.py:7: UserWarning: Boolean Series key will be reindexed to match DataFrame index.\n",
      "  import sys\n",
      "d:\\anaconda\\anaconda3\\envs\\py37\\lib\\site-packages\\ipykernel_launcher.py:5: UserWarning: Boolean Series key will be reindexed to match DataFrame index.\n",
      "  \"\"\"\n",
      "d:\\anaconda\\anaconda3\\envs\\py37\\lib\\site-packages\\ipykernel_launcher.py:7: UserWarning: Boolean Series key will be reindexed to match DataFrame index.\n",
      "  import sys\n",
      "d:\\anaconda\\anaconda3\\envs\\py37\\lib\\site-packages\\ipykernel_launcher.py:5: UserWarning: Boolean Series key will be reindexed to match DataFrame index.\n",
      "  \"\"\"\n",
      "d:\\anaconda\\anaconda3\\envs\\py37\\lib\\site-packages\\ipykernel_launcher.py:7: UserWarning: Boolean Series key will be reindexed to match DataFrame index.\n",
      "  import sys\n"
     ]
    },
    {
     "name": "stderr",
     "output_type": "stream",
     "text": [
      "d:\\anaconda\\anaconda3\\envs\\py37\\lib\\site-packages\\ipykernel_launcher.py:5: UserWarning: Boolean Series key will be reindexed to match DataFrame index.\n",
      "  \"\"\"\n",
      "d:\\anaconda\\anaconda3\\envs\\py37\\lib\\site-packages\\ipykernel_launcher.py:7: UserWarning: Boolean Series key will be reindexed to match DataFrame index.\n",
      "  import sys\n",
      "d:\\anaconda\\anaconda3\\envs\\py37\\lib\\site-packages\\ipykernel_launcher.py:5: UserWarning: Boolean Series key will be reindexed to match DataFrame index.\n",
      "  \"\"\"\n",
      "d:\\anaconda\\anaconda3\\envs\\py37\\lib\\site-packages\\ipykernel_launcher.py:7: UserWarning: Boolean Series key will be reindexed to match DataFrame index.\n",
      "  import sys\n",
      "d:\\anaconda\\anaconda3\\envs\\py37\\lib\\site-packages\\ipykernel_launcher.py:5: UserWarning: Boolean Series key will be reindexed to match DataFrame index.\n",
      "  \"\"\"\n",
      "d:\\anaconda\\anaconda3\\envs\\py37\\lib\\site-packages\\ipykernel_launcher.py:7: UserWarning: Boolean Series key will be reindexed to match DataFrame index.\n",
      "  import sys\n",
      "d:\\anaconda\\anaconda3\\envs\\py37\\lib\\site-packages\\ipykernel_launcher.py:5: UserWarning: Boolean Series key will be reindexed to match DataFrame index.\n",
      "  \"\"\"\n",
      "d:\\anaconda\\anaconda3\\envs\\py37\\lib\\site-packages\\ipykernel_launcher.py:7: UserWarning: Boolean Series key will be reindexed to match DataFrame index.\n",
      "  import sys\n",
      "d:\\anaconda\\anaconda3\\envs\\py37\\lib\\site-packages\\ipykernel_launcher.py:5: UserWarning: Boolean Series key will be reindexed to match DataFrame index.\n",
      "  \"\"\"\n",
      "d:\\anaconda\\anaconda3\\envs\\py37\\lib\\site-packages\\ipykernel_launcher.py:7: UserWarning: Boolean Series key will be reindexed to match DataFrame index.\n",
      "  import sys\n",
      "d:\\anaconda\\anaconda3\\envs\\py37\\lib\\site-packages\\ipykernel_launcher.py:5: UserWarning: Boolean Series key will be reindexed to match DataFrame index.\n",
      "  \"\"\"\n",
      "d:\\anaconda\\anaconda3\\envs\\py37\\lib\\site-packages\\ipykernel_launcher.py:7: UserWarning: Boolean Series key will be reindexed to match DataFrame index.\n",
      "  import sys\n",
      "d:\\anaconda\\anaconda3\\envs\\py37\\lib\\site-packages\\ipykernel_launcher.py:5: UserWarning: Boolean Series key will be reindexed to match DataFrame index.\n",
      "  \"\"\"\n",
      "d:\\anaconda\\anaconda3\\envs\\py37\\lib\\site-packages\\ipykernel_launcher.py:7: UserWarning: Boolean Series key will be reindexed to match DataFrame index.\n",
      "  import sys\n"
     ]
    }
   ],
   "source": [
    "TPRandFPR=pd.DataFrame(index=range(len(data)),columns=('TP','FP'))\n",
    "\n",
    "for j in range(len(data)):\n",
    "    data1=data.head(n=j+1)\n",
    "    FP=len(data1[data1['The true label']==0] [data1['probability']>=data1.head(len(data1))['probability']])/float(len(data[data['The true label']==0]))\n",
    "    \n",
    "    TP=len(data1[data1['The true label']==1][data1['probability']>=data1.head(len(data1))['probability']])/float(len(data[data['The true label']==1])) \n",
    "    TPRandFPR.iloc[j]=[TP,FP]"
   ]
  },
  {
   "cell_type": "code",
   "execution_count": 47,
   "metadata": {},
   "outputs": [
    {
     "name": "stdout",
     "output_type": "stream",
     "text": [
      "      TP    FP\n",
      "0      0  0.05\n",
      "1   0.05  0.05\n",
      "2   0.05   0.1\n",
      "3    0.1   0.1\n",
      "4    0.1  0.15\n",
      "5   0.15  0.15\n",
      "6   0.15   0.2\n",
      "7   0.15  0.25\n",
      "8   0.15   0.3\n",
      "9   0.15  0.35\n",
      "10  0.15   0.4\n",
      "11  0.15  0.45\n",
      "12  0.15   0.5\n",
      "13  0.15  0.55\n",
      "14   0.2  0.55\n",
      "15  0.25  0.55\n",
      "16  0.25   0.6\n",
      "17   0.3   0.6\n",
      "18   0.3  0.65\n",
      "19  0.35  0.65\n",
      "20  0.35   0.7\n",
      "21  0.35  0.75\n",
      "22   0.4  0.75\n",
      "23  0.45  0.75\n",
      "24   0.5  0.75\n",
      "25  0.55  0.75\n",
      "26   0.6  0.75\n",
      "27  0.65  0.75\n",
      "28   0.7  0.75\n",
      "29  0.75  0.75\n",
      "30   0.8  0.75\n",
      "31   0.8   0.8\n",
      "32   0.8  0.85\n",
      "33  0.85  0.85\n",
      "34  0.85   0.9\n",
      "35   0.9   0.9\n",
      "36   0.9  0.95\n",
      "37  0.95  0.95\n",
      "38  0.95     1\n",
      "39     1     1\n"
     ]
    }
   ],
   "source": [
    "print(TPRandFPR)  #查看最后得到得结果"
   ]
  },
  {
   "cell_type": "markdown",
   "metadata": {},
   "source": [
    "画图"
   ]
  },
  {
   "cell_type": "code",
   "execution_count": 50,
   "metadata": {},
   "outputs": [
    {
     "name": "stdout",
     "output_type": "stream",
     "text": [
      "0.34500000000000003\n"
     ]
    },
    {
     "data": {
      "image/png": "[encoded data removed]",
      "text/plain": [
       "<Figure size 432x288 with 1 Axes>"
      ]
     },
     "metadata": {
      "needs_background": "light"
     },
     "output_type": "display_data"
    }
   ],
   "source": [
    "from sklearn.metrics import auc\n",
    "AUC= auc(TPRandFPR['FP'],TPRandFPR['TP'])\n",
    "print(AUC)\n",
    "\n",
    "plt.scatter(x=TPRandFPR['FP'],y=TPRandFPR['TP'],label='(FPR,TPR)',color='k')\n",
    "plt.plot(TPRandFPR['FP'], TPRandFPR['TP'], 'k',label='AUC = %0.2f'% AUC)\n",
    "plt.legend(loc='upper left')\n",
    "\n",
    "plt.title('Receiver Operating Characteristic')\n",
    "plt.plot([(0,0),(1,1)],'r--')\n",
    "plt.xlim([-0.01,1.01])\n",
    "plt.ylim([-0.01,01.01])\n",
    "plt.ylabel('True Positive Rate')\n",
    "plt.xlabel('False Positive Rate')\n",
    "plt.show()"
   ]
  },
  {
   "cell_type": "code",
   "execution_count": null,
   "metadata": {},
   "outputs": [],
   "source": []
  }
 ],
 "metadata": {
  "kernelspec": {
   "display_name": "Python 3",
   "language": "python",
   "name": "python3"
  },
  "language_info": {
   "codemirror_mode": {
    "name": "ipython",
    "version": 3
   },
   "file_extension": ".py",
   "mimetype": "text/x-python",
   "name": "python",
   "nbconvert_exporter": "python",
   "pygments_lexer": "ipython3",
   "version": "3.7.9"
  }
 },
 "nbformat": 4,
 "nbformat_minor": 2
}
